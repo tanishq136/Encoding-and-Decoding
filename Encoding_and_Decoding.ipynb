{
  "nbformat": 4,
  "nbformat_minor": 0,
  "metadata": {
    "colab": {
      "provenance": []
    },
    "kernelspec": {
      "name": "python3",
      "display_name": "Python 3"
    },
    "language_info": {
      "name": "python"
    }
  },
  "cells": [
    {
      "cell_type": "code",
      "execution_count": null,
      "metadata": {
        "colab": {
          "base_uri": "https://localhost:8080/"
        },
        "id": "UgaIV26s-BxM",
        "outputId": "508c4a52-0607-4d6d-b503-38fa9187a68d"
      },
      "outputs": [
        {
          "output_type": "stream",
          "name": "stdout",
          "text": [
            "16 21 18 5 4 5 13 15 3 18 1 3 25\n",
            "Original text: PUREDEMOCRACY\n"
          ]
        }
      ],
      "source": [
        "def encode_text(text):\n",
        "    alphabet = 'ABCDEFGHIJKLMNOPQRSTUVWXYZ'\n",
        "    encoding = {letter: str(index + 1) for index, letter in enumerate(alphabet)}\n",
        "    return ' '.join([encoding[char.upper()] for char in text if char.upper() in alphabet])\n",
        "\n",
        "text = \"PUREDEMOCRACY\"     #ENTER YOUR TEXT IN CAPITAL LETTERS ONLY!!!\n",
        "a = print(encode_text(text)) # Output: \"3 1 20\"\n",
        "\n",
        "def decode_text(encoded_text):\n",
        "    encoded_text = [int(num) for num in encoded_text.split()]\n",
        "    alphabet = 'ABCDEFGHIJKLMNOPQRSTUVWXYZ'\n",
        "    decoding = {index + 1: letter for index, letter in enumerate(alphabet)}\n",
        "    return ''.join([decoding[num] for num in encoded_text if num in decoding])\n",
        "\n",
        "#encodd_text == a\n",
        "#print(decode_text(encodd_text)) # Output: \"CAT\"\n",
        "\n",
        "encoded_text = encode_text(text)\n",
        "decoded_book = decode_text(encoded_text)\n",
        "print(f\"Original text: {text}\")\n",
        "\n",
        "assert text == decoded_book"
      ]
    },
    {
      "cell_type": "code",
      "source": [
        "import string\n",
        "\n",
        "def encode_text(text):\n",
        "    alphabet = string.ascii_uppercase + string.ascii_lowercase + string.digits + string.punctuation + ' '\n",
        "    encoding = {char: str(index + 1) for index, char in enumerate(alphabet)}\n",
        "    encoded_text = ' '.join([encoding[char] for char in text if char in encoding])\n",
        "    print(f\"Encoded text: {encoded_text}\")\n",
        "    return encoded_text\n",
        "\n",
        "def decode_text(encoded_text):\n",
        "    encoded_text = [int(num) for num in encoded_text.split()]\n",
        "    alphabet = string.ascii_uppercase + string.ascii_lowercase + string.digits + string.punctuation + ' '\n",
        "    decoding = {index + 1: char for index, char in enumerate(alphabet)}\n",
        "    decoded_text = ''.join([decoding[num] for num in encoded_text if num in decoding])\n",
        "    print(f\"Decoded text: {decoded_text}\")\n",
        "    return decoded_text\n",
        "\n",
        "with open('book.txt', 'r') as f:\n",
        "    book = f.read()\n",
        "\n",
        "print(f\"Original text: {book}\")\n",
        "encoded_book = encode_text(book)\n",
        "decoded_book = decode_text(encoded_book)\n",
        "\n",
        "assert book == decoded_book\n"
      ],
      "metadata": {
        "colab": {
          "base_uri": "https://localhost:8080/"
        },
        "id": "0JsrudQg-TDQ",
        "outputId": "7d47cbe5-22fc-49bb-c153-71fccff16e6f"
      },
      "execution_count": null,
      "outputs": [
        {
          "output_type": "stream",
          "name": "stdout",
          "text": [
            "Original text: Headers in your Microsoft Word document lets you add text to the top of each page of a business document. Although this text appears on each page, you have to enter it only once; the edits are propagated to all pages. This header is separated by a space, but for a more obvious segregation or to spice up the header a little,you can add a graphical line.\n",
            "Encoded text: 8 31 27 30 31 44 45 95 35 40 95 51 41 47 44 95 13 35 29 44 41 45 41 32 46 95 23 41 44 30 95 30 41 29 47 39 31 40 46 95 38 31 46 45 95 51 41 47 95 27 30 30 95 46 31 50 46 95 46 41 95 46 34 31 95 46 41 42 95 41 32 95 31 27 29 34 95 42 27 33 31 95 41 32 95 27 95 28 47 45 35 40 31 45 45 95 30 41 29 47 39 31 40 46 76 95 1 38 46 34 41 47 33 34 95 46 34 35 45 95 46 31 50 46 95 27 42 42 31 27 44 45 95 41 40 95 31 27 29 34 95 42 27 33 31 74 95 51 41 47 95 34 27 48 31 95 46 41 95 31 40 46 31 44 95 35 46 95 41 40 38 51 95 41 40 29 31 79 95 46 34 31 95 31 30 35 46 45 95 27 44 31 95 42 44 41 42 27 33 27 46 31 30 95 46 41 95 27 38 38 95 42 27 33 31 45 76 95 20 34 35 45 95 34 31 27 30 31 44 95 35 45 95 45 31 42 27 44 27 46 31 30 95 28 51 95 27 95 45 42 27 29 31 74 95 28 47 46 95 32 41 44 95 27 95 39 41 44 31 95 41 28 48 35 41 47 45 95 45 31 33 44 31 33 27 46 35 41 40 95 41 44 95 46 41 95 45 42 35 29 31 95 47 42 95 46 34 31 95 34 31 27 30 31 44 95 27 95 38 35 46 46 38 31 74 51 41 47 95 29 27 40 95 27 30 30 95 27 95 33 44 27 42 34 35 29 27 38 95 38 35 40 31 76\n",
            "Decoded text: Headers in your Microsoft Word document lets you add text to the top of each page of a business document. Although this text appears on each page, you have to enter it only once; the edits are propagated to all pages. This header is separated by a space, but for a more obvious segregation or to spice up the header a little,you can add a graphical line.\n"
          ]
        }
      ]
    },
    {
      "cell_type": "code",
      "source": [],
      "metadata": {
        "id": "WR_uZ0Wh-trp"
      },
      "execution_count": null,
      "outputs": []
    }
  ]
}